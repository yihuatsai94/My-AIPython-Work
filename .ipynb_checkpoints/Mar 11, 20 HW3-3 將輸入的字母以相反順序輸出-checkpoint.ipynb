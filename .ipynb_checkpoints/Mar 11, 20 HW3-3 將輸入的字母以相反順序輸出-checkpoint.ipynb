{
 "cells": [
  {
   "cell_type": "code",
   "execution_count": 1,
   "metadata": {},
   "outputs": [],
   "source": [
    "%matplotlib inline\n",
    "import numpy as np\n",
    "import matplotlib.pyplot as plt\n",
    "import pandas as pd"
   ]
  },
  {
   "cell_type": "code",
   "execution_count": 2,
   "metadata": {},
   "outputs": [
    {
     "name": "stdout",
     "output_type": "stream",
     "text": [
      "A I P Y T H O N "
     ]
    }
   ],
   "source": [
    "def f(text):\n",
    "    l = len(text)\n",
    "    if l == 1:\n",
    "        print(text, end=' ')\n",
    "    else:\n",
    "        print(text[-1], end=' ')\n",
    "        f(text[:-1])\n",
    "f('NOHTYPIA')"
   ]
  },
  {
   "cell_type": "code",
   "execution_count": 3,
   "metadata": {},
   "outputs": [
    {
     "name": "stdout",
     "output_type": "stream",
     "text": [
      "C O R O N A V I R U S "
     ]
    }
   ],
   "source": [
    "def f(text):\n",
    "    l = len(text)\n",
    "    if l == 1:\n",
    "        print(text, end=' ')\n",
    "    else:\n",
    "        print(text[-1], end=' ')\n",
    "        f(text[:-1])\n",
    "f('SURIVANOROC') "
   ]
  },
  {
   "cell_type": "code",
   "execution_count": null,
   "metadata": {},
   "outputs": [],
   "source": []
  }
 ],
 "metadata": {
  "kernelspec": {
   "display_name": "Python 3",
   "language": "python",
   "name": "python3"
  },
  "language_info": {
   "codemirror_mode": {
    "name": "ipython",
    "version": 3
   },
   "file_extension": ".py",
   "mimetype": "text/x-python",
   "name": "python",
   "nbconvert_exporter": "python",
   "pygments_lexer": "ipython3",
   "version": "3.7.4"
  }
 },
 "nbformat": 4,
 "nbformat_minor": 2
}
