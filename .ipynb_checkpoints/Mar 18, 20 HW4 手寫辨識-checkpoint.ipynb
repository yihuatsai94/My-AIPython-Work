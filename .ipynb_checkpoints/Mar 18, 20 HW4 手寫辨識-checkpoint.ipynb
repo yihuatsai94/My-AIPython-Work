{
 "cells": [
  {
   "cell_type": "code",
   "execution_count": 1,
   "metadata": {},
   "outputs": [],
   "source": [
    "%matplotlib inline\n",
    "\n",
    "import numpy as np\n",
    "import matplotlib.pyplot as plt"
   ]
  },
  {
   "cell_type": "code",
   "execution_count": 2,
   "metadata": {},
   "outputs": [],
   "source": [
    "import tensorflow as tf"
   ]
  },
  {
   "cell_type": "markdown",
   "metadata": {},
   "source": [
    "### 1. 讀入 MNSIT 數據集"
   ]
  },
  {
   "cell_type": "code",
   "execution_count": 3,
   "metadata": {},
   "outputs": [],
   "source": [
    "from tensorflow.keras.datasets import fashion_mnist"
   ]
  },
  {
   "cell_type": "code",
   "execution_count": 4,
   "metadata": {},
   "outputs": [],
   "source": [
    "(x_train, y_train), (x_test, y_test) = fashion_mnist.load_data()"
   ]
  },
  {
   "cell_type": "markdown",
   "metadata": {},
   "source": [
    "### 2. 欣賞數據集內容"
   ]
  },
  {
   "cell_type": "code",
   "execution_count": 5,
   "metadata": {},
   "outputs": [],
   "source": [
    "class_names = ['T-shirt/top', 'Trouser', 'Pullover', 'Dress', 'Coat',\n",
    "               'Sandal', 'Shirt', 'Sneaker', 'Bag', 'Ankle boot']"
   ]
  },
  {
   "cell_type": "code",
   "execution_count": 6,
   "metadata": {},
   "outputs": [
    {
     "data": {
      "text/plain": [
       "60000"
      ]
     },
     "execution_count": 6,
     "metadata": {},
     "output_type": "execute_result"
    }
   ],
   "source": [
    "len(x_train)"
   ]
  },
  {
   "cell_type": "code",
   "execution_count": 7,
   "metadata": {},
   "outputs": [
    {
     "data": {
      "text/plain": [
       "10000"
      ]
     },
     "execution_count": 7,
     "metadata": {},
     "output_type": "execute_result"
    }
   ],
   "source": [
    "len(x_test)"
   ]
  },
  {
   "cell_type": "code",
   "execution_count": 8,
   "metadata": {},
   "outputs": [
    {
     "name": "stdout",
     "output_type": "stream",
     "text": [
      "這是 Trouser\n"
     ]
    },
    {
     "data": {
      "image/png": "[encoded data removed]",
      "text/plain": [
       "<Figure size 432x288 with 1 Axes>"
      ]
     },
     "metadata": {
      "needs_background": "light"
     },
     "output_type": "display_data"
    }
   ],
   "source": [
    "n = 58926\n",
    "print('這是', class_names[y_train[n]])\n",
    "plt.imshow(x_train[n], cmap='Greys');"
   ]
  },
  {
   "cell_type": "markdown",
   "metadata": {},
   "source": [
    "### 3. 資料整理"
   ]
  },
  {
   "cell_type": "code",
   "execution_count": 9,
   "metadata": {},
   "outputs": [],
   "source": [
    "x_train = x_train/255\n",
    "x_test = x_test/255"
   ]
  },
  {
   "cell_type": "code",
   "execution_count": 10,
   "metadata": {},
   "outputs": [
    {
     "data": {
      "text/plain": [
       "(60000, 28, 28)"
      ]
     },
     "execution_count": 10,
     "metadata": {},
     "output_type": "execute_result"
    }
   ],
   "source": [
    "x_train.shape"
   ]
  },
  {
   "cell_type": "code",
   "execution_count": 11,
   "metadata": {},
   "outputs": [],
   "source": [
    "x_train = x_train.reshape(60000, 784)"
   ]
  },
  {
   "cell_type": "code",
   "execution_count": 12,
   "metadata": {},
   "outputs": [],
   "source": [
    "x_test = x_test.reshape(10000, 784)"
   ]
  },
  {
   "cell_type": "code",
   "execution_count": 13,
   "metadata": {},
   "outputs": [],
   "source": [
    "from tensorflow.keras.utils import to_categorical"
   ]
  },
  {
   "cell_type": "code",
   "execution_count": 14,
   "metadata": {},
   "outputs": [],
   "source": [
    "y_train = to_categorical(y_train, 10)"
   ]
  },
  {
   "cell_type": "code",
   "execution_count": 15,
   "metadata": {},
   "outputs": [],
   "source": [
    "y_test = to_categorical(y_test, 10)"
   ]
  },
  {
   "cell_type": "code",
   "execution_count": 16,
   "metadata": {},
   "outputs": [
    {
     "data": {
      "text/plain": [
       "array([0., 1., 0., 0., 0., 0., 0., 0., 0., 0.], dtype=float32)"
      ]
     },
     "execution_count": 16,
     "metadata": {},
     "output_type": "execute_result"
    }
   ],
   "source": [
    "y_train[58926]"
   ]
  },
  {
   "cell_type": "markdown",
   "metadata": {},
   "source": [
    "### 4. 打造神經網路"
   ]
  },
  {
   "cell_type": "code",
   "execution_count": 17,
   "metadata": {},
   "outputs": [],
   "source": [
    "from tensorflow.keras.models import Sequential\n",
    "from tensorflow.keras.layers import Dense\n",
    "from tensorflow.keras.optimizers import SGD"
   ]
  },
  {
   "cell_type": "code",
   "execution_count": 18,
   "metadata": {},
   "outputs": [],
   "source": [
    "model = Sequential()"
   ]
  },
  {
   "cell_type": "code",
   "execution_count": 19,
   "metadata": {},
   "outputs": [],
   "source": [
    "model.add(Dense(87, input_dim=784, activation='relu'))"
   ]
  },
  {
   "cell_type": "code",
   "execution_count": 20,
   "metadata": {},
   "outputs": [],
   "source": [
    "model.add(Dense(87, activation='relu'))"
   ]
  },
  {
   "cell_type": "code",
   "execution_count": 21,
   "metadata": {},
   "outputs": [],
   "source": [
    "model.add(Dense(10, activation='softmax'))"
   ]
  },
  {
   "cell_type": "markdown",
   "metadata": {},
   "source": [
    "### 5. 組裝"
   ]
  },
  {
   "cell_type": "code",
   "execution_count": 22,
   "metadata": {},
   "outputs": [],
   "source": [
    "model.compile(loss='mse', optimizer=SGD(lr=0.087), metrics=['accuracy'])"
   ]
  },
  {
   "cell_type": "code",
   "execution_count": 23,
   "metadata": {},
   "outputs": [
    {
     "name": "stdout",
     "output_type": "stream",
     "text": [
      "Model: \"sequential\"\n",
      "_________________________________________________________________\n",
      "Layer (type)                 Output Shape              Param #   \n",
      "=================================================================\n",
      "dense (Dense)                (None, 87)                68295     \n",
      "_________________________________________________________________\n",
      "dense_1 (Dense)              (None, 87)                7656      \n",
      "_________________________________________________________________\n",
      "dense_2 (Dense)              (None, 10)                880       \n",
      "=================================================================\n",
      "Total params: 76,831\n",
      "Trainable params: 76,831\n",
      "Non-trainable params: 0\n",
      "_________________________________________________________________\n"
     ]
    }
   ],
   "source": [
    "model.summary()"
   ]
  },
  {
   "cell_type": "markdown",
   "metadata": {},
   "source": [
    "### 6. 訓練"
   ]
  },
  {
   "cell_type": "code",
   "execution_count": 27,
   "metadata": {
    "scrolled": false
   },
   "outputs": [
    {
     "name": "stdout",
     "output_type": "stream",
     "text": [
      "Train on 60000 samples\n",
      "Epoch 1/30\n",
      "60000/60000 [==============================] - 2s 35us/sample - loss: 0.0155 - accuracy: 0.8967\n",
      "Epoch 2/30\n",
      "60000/60000 [==============================] - 2s 35us/sample - loss: 0.0153 - accuracy: 0.8980\n",
      "Epoch 3/30\n",
      "60000/60000 [==============================] - 2s 34us/sample - loss: 0.0153 - accuracy: 0.8977\n",
      "Epoch 4/30\n",
      "60000/60000 [==============================] - 2s 34us/sample - loss: 0.0151 - accuracy: 0.8997\n",
      "Epoch 5/30\n",
      "60000/60000 [==============================] - 2s 34us/sample - loss: 0.0150 - accuracy: 0.9002\n",
      "Epoch 6/30\n",
      "60000/60000 [==============================] - 2s 38us/sample - loss: 0.0149 - accuracy: 0.9008\n",
      "Epoch 7/30\n",
      "60000/60000 [==============================] - 2s 34us/sample - loss: 0.0148 - accuracy: 0.9023\n",
      "Epoch 8/30\n",
      "60000/60000 [==============================] - 2s 34us/sample - loss: 0.0146 - accuracy: 0.9024\n",
      "Epoch 9/30\n",
      "60000/60000 [==============================] - 2s 34us/sample - loss: 0.0145 - accuracy: 0.9034\n",
      "Epoch 10/30\n",
      "60000/60000 [==============================] - 2s 35us/sample - loss: 0.0144 - accuracy: 0.9051\n",
      "Epoch 11/30\n",
      "60000/60000 [==============================] - 2s 35us/sample - loss: 0.0143 - accuracy: 0.9054\n",
      "Epoch 12/30\n",
      "60000/60000 [==============================] - 2s 35us/sample - loss: 0.0142 - accuracy: 0.9056\n",
      "Epoch 13/30\n",
      "60000/60000 [==============================] - 2s 38us/sample - loss: 0.0141 - accuracy: 0.9071\n",
      "Epoch 14/30\n",
      "60000/60000 [==============================] - 2s 38us/sample - loss: 0.0140 - accuracy: 0.9084\n",
      "Epoch 15/30\n",
      "60000/60000 [==============================] - 2s 35us/sample - loss: 0.0139 - accuracy: 0.9088\n",
      "Epoch 16/30\n",
      "60000/60000 [==============================] - 2s 35us/sample - loss: 0.0138 - accuracy: 0.9097\n",
      "Epoch 17/30\n",
      "60000/60000 [==============================] - 2s 35us/sample - loss: 0.0137 - accuracy: 0.9099\n",
      "Epoch 18/30\n",
      "60000/60000 [==============================] - 2s 36us/sample - loss: 0.0136 - accuracy: 0.9118\n",
      "Epoch 19/30\n",
      "60000/60000 [==============================] - 2s 35us/sample - loss: 0.0135 - accuracy: 0.9118\n",
      "Epoch 20/30\n",
      "60000/60000 [==============================] - 2s 35us/sample - loss: 0.0134 - accuracy: 0.9120\n",
      "Epoch 21/30\n",
      "60000/60000 [==============================] - 2s 35us/sample - loss: 0.0133 - accuracy: 0.9138\n",
      "Epoch 22/30\n",
      "60000/60000 [==============================] - 2s 35us/sample - loss: 0.0132 - accuracy: 0.9144\n",
      "Epoch 23/30\n",
      "60000/60000 [==============================] - 2s 36us/sample - loss: 0.0131 - accuracy: 0.9144\n",
      "Epoch 24/30\n",
      "60000/60000 [==============================] - 2s 36us/sample - loss: 0.0130 - accuracy: 0.9156\n",
      "Epoch 25/30\n",
      "60000/60000 [==============================] - 2s 35us/sample - loss: 0.0129 - accuracy: 0.9162\n",
      "Epoch 26/30\n",
      "60000/60000 [==============================] - 2s 35us/sample - loss: 0.0128 - accuracy: 0.9160\n",
      "Epoch 27/30\n",
      "60000/60000 [==============================] - 2s 35us/sample - loss: 0.0127 - accuracy: 0.9169\n",
      "Epoch 28/30\n",
      "60000/60000 [==============================] - 2s 36us/sample - loss: 0.0127 - accuracy: 0.9172\n",
      "Epoch 29/30\n",
      "60000/60000 [==============================] - 2s 41us/sample - loss: 0.0126 - accuracy: 0.9189\n",
      "Epoch 30/30\n",
      "60000/60000 [==============================] - 2s 35us/sample - loss: 0.0125 - accuracy: 0.9184\n"
     ]
    },
    {
     "data": {
      "text/plain": [
       "<tensorflow.python.keras.callbacks.History at 0x13a98add0>"
      ]
     },
     "execution_count": 27,
     "metadata": {},
     "output_type": "execute_result"
    }
   ],
   "source": [
    "model.fit(x_train, y_train, batch_size=30, epochs=30)\n",
    "# 將 epochs 及 batch_size 皆改為 30"
   ]
  },
  {
   "cell_type": "markdown",
   "metadata": {},
   "source": [
    "可以看到 batch_size 由 100 改為 30，epochs 由 20 改成 30 ，正確率從 86 % 提高到 91.84%"
   ]
  },
  {
   "cell_type": "markdown",
   "metadata": {},
   "source": [
    "### 6. 訓練成果"
   ]
  },
  {
   "cell_type": "code",
   "execution_count": 28,
   "metadata": {},
   "outputs": [],
   "source": [
    "result = model.predict_classes(x_test)"
   ]
  },
  {
   "cell_type": "code",
   "execution_count": 29,
   "metadata": {},
   "outputs": [
    {
     "name": "stdout",
     "output_type": "stream",
     "text": [
      "神經網路預測是: Sneaker\n"
     ]
    },
    {
     "data": {
      "text/plain": [
       "<matplotlib.image.AxesImage at 0x13aca45d0>"
      ]
     },
     "execution_count": 29,
     "metadata": {},
     "output_type": "execute_result"
    },
    {
     "data": {
      "image/png": "[encoded data removed]",
      "text/plain": [
       "<Figure size 432x288 with 1 Axes>"
      ]
     },
     "metadata": {
      "needs_background": "light"
     },
     "output_type": "display_data"
    }
   ],
   "source": [
    "n = 6666\n",
    "\n",
    "print('神經網路預測是:', class_names[result[n]])\n",
    "plt.imshow(x_test[n].reshape(28,28), cmap='Greys')"
   ]
  },
  {
   "cell_type": "code",
   "execution_count": null,
   "metadata": {},
   "outputs": [],
   "source": []
  },
  {
   "cell_type": "code",
   "execution_count": null,
   "metadata": {},
   "outputs": [],
   "source": []
  }
 ],
 "metadata": {
  "kernelspec": {
   "display_name": "Python 3",
   "language": "python",
   "name": "python3"
  },
  "language_info": {
   "codemirror_mode": {
    "name": "ipython",
    "version": 3
   },
   "file_extension": ".py",
   "mimetype": "text/x-python",
   "name": "python",
   "nbconvert_exporter": "python",
   "pygments_lexer": "ipython3",
   "version": "3.7.4"
  }
 },
 "nbformat": 4,
 "nbformat_minor": 2
}
