{
 "cells": [
  {
   "cell_type": "code",
   "execution_count": 1,
   "metadata": {},
   "outputs": [],
   "source": [
    "%matplotlib inline\n",
    "\n",
    "import numpy as np\n",
    "import matplotlib.pyplot as plt\n",
    "import pandas as pd"
   ]
  },
  {
   "cell_type": "code",
   "execution_count": 2,
   "metadata": {},
   "outputs": [],
   "source": [
    "m1 = np.random.randint(1, 777, size=(5, 5))\n",
    "m2 = np.random.randint(1, 777, size=(5, 5))"
   ]
  },
  {
   "cell_type": "code",
   "execution_count": 3,
   "metadata": {},
   "outputs": [
    {
     "name": "stdout",
     "output_type": "stream",
     "text": [
      "第一個矩陣為:\n",
      " [[257 678 206 237 505]\n",
      " [ 55 751 216 772 135]\n",
      " [152 558 717  23 285]\n",
      " [127 766 512 160 573]\n",
      " [123 528 154 391 711]]\n",
      "第二個矩陣為:\n",
      " [[257 259 686 284 311]\n",
      " [574  31 261 585 236]\n",
      " [367 356 773 666 663]\n",
      " [685 347 345  24  11]\n",
      " [556 319 527 241 647]]\n",
      "兩個矩陣相加為:\n",
      " [[ 514  937  892  521  816]\n",
      " [ 629  782  477 1357  371]\n",
      " [ 519  914 1490  689  948]\n",
      " [ 812 1113  857  184  584]\n",
      " [ 679  847  681  632 1358]]\n"
     ]
    }
   ],
   "source": [
    "def matrix_plus(m1, m2):\n",
    "    return m1 + m2\n",
    "\n",
    "print(\"第一個矩陣為:\\n\", m1)\n",
    "print(\"第二個矩陣為:\\n\", m2)\n",
    "print(\"兩個矩陣相加為:\\n\", matrix_plus(m1, m2))"
   ]
  },
  {
   "cell_type": "code",
   "execution_count": null,
   "metadata": {},
   "outputs": [],
   "source": []
  }
 ],
 "metadata": {
  "kernelspec": {
   "display_name": "Python 3",
   "language": "python",
   "name": "python3"
  },
  "language_info": {
   "codemirror_mode": {
    "name": "ipython",
    "version": 3
   },
   "file_extension": ".py",
   "mimetype": "text/x-python",
   "name": "python",
   "nbconvert_exporter": "python",
   "pygments_lexer": "ipython3",
   "version": "3.7.4"
  }
 },
 "nbformat": 4,
 "nbformat_minor": 2
}
