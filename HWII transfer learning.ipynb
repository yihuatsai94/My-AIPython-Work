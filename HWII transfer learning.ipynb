{
 "cells": [
  {
   "cell_type": "code",
   "execution_count": 1,
   "metadata": {},
   "outputs": [],
   "source": [
    "import matplotlib.pyplot as plt\n",
    "import numpy as np"
   ]
  },
  {
   "cell_type": "markdown",
   "metadata": {},
   "source": [
    "### 讀入套件"
   ]
  },
  {
   "cell_type": "code",
   "execution_count": 2,
   "metadata": {},
   "outputs": [],
   "source": [
    "from tensorflow.keras.models import Sequential\n",
    "from tensorflow.keras.layers import Dense\n",
    "from tensorflow.keras.layers import Flatten\n",
    "from tensorflow.keras.layers import Conv2D, MaxPool2D, GlobalAveragePooling2D\n",
    "from tensorflow.keras.optimizers import Adam\n",
    "from tensorflow.keras import datasets\n",
    "from tensorflow.keras.utils import to_categorical"
   ]
  },
  {
   "cell_type": "markdown",
   "metadata": {},
   "source": [
    "# 第一個資料集"
   ]
  },
  {
   "cell_type": "markdown",
   "metadata": {},
   "source": [
    "### 讀入資料"
   ]
  },
  {
   "cell_type": "code",
   "execution_count": 3,
   "metadata": {},
   "outputs": [],
   "source": [
    "(x_train, y_train0), (x_test, y_test0) = datasets.cifar10.load_data()\n",
    "name_list = ['airplane', 'automobile', 'bird', 'cat', 'deer', 'dog', 'frog', 'horse', 'ship', 'truck']"
   ]
  },
  {
   "cell_type": "markdown",
   "metadata": {},
   "source": [
    "### 建立模型"
   ]
  },
  {
   "cell_type": "code",
   "execution_count": 4,
   "metadata": {},
   "outputs": [],
   "source": [
    "x_train = x_train / x_train.max()\n",
    "x_test = x_test / x_test.max()\n",
    "# 標準化資料"
   ]
  },
  {
   "cell_type": "code",
   "execution_count": 5,
   "metadata": {},
   "outputs": [],
   "source": [
    "y_train = to_categorical(y_train0, 10)\n",
    "y_test = to_categorical(y_test0, 10)\n",
    "# one-hot encoding"
   ]
  },
  {
   "cell_type": "code",
   "execution_count": 6,
   "metadata": {},
   "outputs": [],
   "source": [
    "CNN_layers = [Conv2D(32, (3, 3), input_shape=(32, 32, 3), padding='same', activation='relu', name='Conv_1'),\n",
    "              MaxPool2D(),\n",
    "              Conv2D(64, (3, 3), padding='same', activation='relu', name='Conv_2'),\n",
    "              MaxPool2D(),\n",
    "              Conv2D(128, (3, 3), padding='same', activation='relu', name='Conv_3'),\n",
    "              GlobalAveragePooling2D()]"
   ]
  },
  {
   "cell_type": "code",
   "execution_count": 7,
   "metadata": {},
   "outputs": [],
   "source": [
    "FC_layers = [Dense(units=128, activation='relu'),\n",
    "             Dense(units=10, activation='softmax')]"
   ]
  },
  {
   "cell_type": "code",
   "execution_count": 8,
   "metadata": {},
   "outputs": [],
   "source": [
    "model = Sequential(CNN_layers + FC_layers)"
   ]
  },
  {
   "cell_type": "code",
   "execution_count": 9,
   "metadata": {},
   "outputs": [
    {
     "name": "stdout",
     "output_type": "stream",
     "text": [
      "Model: \"sequential\"\n",
      "_________________________________________________________________\n",
      "Layer (type)                 Output Shape              Param #   \n",
      "=================================================================\n",
      "Conv_1 (Conv2D)              (None, 32, 32, 32)        896       \n",
      "_________________________________________________________________\n",
      "max_pooling2d (MaxPooling2D) (None, 16, 16, 32)        0         \n",
      "_________________________________________________________________\n",
      "Conv_2 (Conv2D)              (None, 16, 16, 64)        18496     \n",
      "_________________________________________________________________\n",
      "max_pooling2d_1 (MaxPooling2 (None, 8, 8, 64)          0         \n",
      "_________________________________________________________________\n",
      "Conv_3 (Conv2D)              (None, 8, 8, 128)         73856     \n",
      "_________________________________________________________________\n",
      "global_average_pooling2d (Gl (None, 128)               0         \n",
      "_________________________________________________________________\n",
      "dense (Dense)                (None, 128)               16512     \n",
      "_________________________________________________________________\n",
      "dense_1 (Dense)              (None, 10)                1290      \n",
      "=================================================================\n",
      "Total params: 111,050\n",
      "Trainable params: 111,050\n",
      "Non-trainable params: 0\n",
      "_________________________________________________________________\n"
     ]
    }
   ],
   "source": [
    "model.summary()\n",
    "# 看資料"
   ]
  },
  {
   "cell_type": "code",
   "execution_count": 10,
   "metadata": {},
   "outputs": [],
   "source": [
    "model.compile(loss='categorical_crossentropy', optimizer=Adam(), metrics=['categorical_accuracy'])"
   ]
  },
  {
   "cell_type": "code",
   "execution_count": 11,
   "metadata": {},
   "outputs": [
    {
     "name": "stdout",
     "output_type": "stream",
     "text": [
      "Train on 50000 samples, validate on 10000 samples\n",
      "Epoch 1/10\n",
      "50000/50000 [==============================] - 31s 629us/sample - loss: 1.9316 - categorical_accuracy: 0.2716 - val_loss: 1.7476 - val_categorical_accuracy: 0.3358\n",
      "Epoch 2/10\n",
      "50000/50000 [==============================] - 31s 618us/sample - loss: 1.6788 - categorical_accuracy: 0.3761 - val_loss: 1.5839 - val_categorical_accuracy: 0.4054\n",
      "Epoch 3/10\n",
      "50000/50000 [==============================] - 34s 682us/sample - loss: 1.5493 - categorical_accuracy: 0.4305 - val_loss: 1.5375 - val_categorical_accuracy: 0.4294\n",
      "Epoch 4/10\n",
      "50000/50000 [==============================] - 34s 677us/sample - loss: 1.4602 - categorical_accuracy: 0.4693 - val_loss: 1.4066 - val_categorical_accuracy: 0.4920\n",
      "Epoch 5/10\n",
      "50000/50000 [==============================] - 32s 646us/sample - loss: 1.3863 - categorical_accuracy: 0.4983 - val_loss: 1.3444 - val_categorical_accuracy: 0.5148\n",
      "Epoch 6/10\n",
      "50000/50000 [==============================] - 32s 640us/sample - loss: 1.3236 - categorical_accuracy: 0.5233 - val_loss: 1.2833 - val_categorical_accuracy: 0.5374\n",
      "Epoch 7/10\n",
      "50000/50000 [==============================] - 31s 624us/sample - loss: 1.2682 - categorical_accuracy: 0.5416 - val_loss: 1.2646 - val_categorical_accuracy: 0.5447\n",
      "Epoch 8/10\n",
      "50000/50000 [==============================] - 32s 638us/sample - loss: 1.2262 - categorical_accuracy: 0.5575 - val_loss: 1.2349 - val_categorical_accuracy: 0.5471\n",
      "Epoch 9/10\n",
      "50000/50000 [==============================] - 33s 666us/sample - loss: 1.1756 - categorical_accuracy: 0.5770 - val_loss: 1.1607 - val_categorical_accuracy: 0.5827\n",
      "Epoch 10/10\n",
      "50000/50000 [==============================] - 31s 628us/sample - loss: 1.1471 - categorical_accuracy: 0.5883 - val_loss: 1.1174 - val_categorical_accuracy: 0.6018\n"
     ]
    },
    {
     "data": {
      "text/plain": [
       "<tensorflow.python.keras.callbacks.History at 0x1475d5910>"
      ]
     },
     "execution_count": 11,
     "metadata": {},
     "output_type": "execute_result"
    }
   ],
   "source": [
    "model.fit(x_train, y_train, batch_size=256, epochs=10,validation_data=(x_test, y_test))"
   ]
  },
  {
   "cell_type": "markdown",
   "metadata": {},
   "source": [
    "# 第二個資料集"
   ]
  },
  {
   "cell_type": "markdown",
   "metadata": {},
   "source": [
    "### 讀入資料"
   ]
  },
  {
   "cell_type": "code",
   "execution_count": 12,
   "metadata": {},
   "outputs": [],
   "source": [
    "(x_train1, y_train1), (x_test1, y_test1) = datasets.cifar100.load_data()"
   ]
  },
  {
   "cell_type": "markdown",
   "metadata": {},
   "source": [
    "### 建立模型"
   ]
  },
  {
   "cell_type": "code",
   "execution_count": 13,
   "metadata": {},
   "outputs": [],
   "source": [
    "x_train1 = x_train1 / x_train1.max()\n",
    "x_test1 = x_test1 / x_test1.max()\n",
    "# 標準化"
   ]
  },
  {
   "cell_type": "code",
   "execution_count": 14,
   "metadata": {},
   "outputs": [],
   "source": [
    "y_train1 = to_categorical(y_train1, 100)\n",
    "y_test1 = to_categorical(y_test1, 100)\n",
    "# one-hot encoding"
   ]
  },
  {
   "cell_type": "code",
   "execution_count": 15,
   "metadata": {},
   "outputs": [],
   "source": [
    "FC_layers_cifar100 = [Dense(units=512, activation='relu'),\n",
    "                  Dense(units=256, activation='relu'),\n",
    "                  Dense(units=100, activation='softmax')]"
   ]
  },
  {
   "cell_type": "code",
   "execution_count": 16,
   "metadata": {},
   "outputs": [
    {
     "name": "stdout",
     "output_type": "stream",
     "text": [
      "Model: \"sequential_1\"\n",
      "_________________________________________________________________\n",
      "Layer (type)                 Output Shape              Param #   \n",
      "=================================================================\n",
      "Conv_1 (Conv2D)              (None, 32, 32, 32)        896       \n",
      "_________________________________________________________________\n",
      "max_pooling2d (MaxPooling2D) (None, 16, 16, 32)        0         \n",
      "_________________________________________________________________\n",
      "Conv_2 (Conv2D)              (None, 16, 16, 64)        18496     \n",
      "_________________________________________________________________\n",
      "max_pooling2d_1 (MaxPooling2 (None, 8, 8, 64)          0         \n",
      "_________________________________________________________________\n",
      "Conv_3 (Conv2D)              (None, 8, 8, 128)         73856     \n",
      "_________________________________________________________________\n",
      "global_average_pooling2d (Gl (None, 128)               0         \n",
      "_________________________________________________________________\n",
      "dense_2 (Dense)              (None, 512)               66048     \n",
      "_________________________________________________________________\n",
      "dense_3 (Dense)              (None, 256)               131328    \n",
      "_________________________________________________________________\n",
      "dense_4 (Dense)              (None, 100)               25700     \n",
      "=================================================================\n",
      "Total params: 316,324\n",
      "Trainable params: 316,324\n",
      "Non-trainable params: 0\n",
      "_________________________________________________________________\n"
     ]
    }
   ],
   "source": [
    "model_cifar100 = Sequential(CNN_layers + FC_layers_cifar100)\n",
    "model_cifar100.summary()"
   ]
  },
  {
   "cell_type": "code",
   "execution_count": 17,
   "metadata": {},
   "outputs": [],
   "source": [
    "model_cifar100.compile(loss='categorical_crossentropy', optimizer=Adam(), metrics=['categorical_accuracy'])"
   ]
  },
  {
   "cell_type": "code",
   "execution_count": 18,
   "metadata": {},
   "outputs": [
    {
     "name": "stdout",
     "output_type": "stream",
     "text": [
      "Train on 50000 samples, validate on 10000 samples\n",
      "Epoch 1/5\n",
      "50000/50000 [==============================] - 43s 854us/sample - loss: 3.7044 - categorical_accuracy: 0.1287 - val_loss: 3.3162 - val_categorical_accuracy: 0.1875\n",
      "Epoch 2/5\n",
      "50000/50000 [==============================] - 38s 758us/sample - loss: 3.1483 - categorical_accuracy: 0.2171 - val_loss: 3.0163 - val_categorical_accuracy: 0.2491\n",
      "Epoch 3/5\n",
      "50000/50000 [==============================] - 37s 738us/sample - loss: 2.9147 - categorical_accuracy: 0.2639 - val_loss: 2.8782 - val_categorical_accuracy: 0.2773\n",
      "Epoch 4/5\n",
      "50000/50000 [==============================] - 38s 751us/sample - loss: 2.7407 - categorical_accuracy: 0.2962 - val_loss: 2.7454 - val_categorical_accuracy: 0.2968\n",
      "Epoch 5/5\n",
      "50000/50000 [==============================] - 37s 741us/sample - loss: 2.6079 - categorical_accuracy: 0.3243 - val_loss: 2.7125 - val_categorical_accuracy: 0.3063\n"
     ]
    }
   ],
   "source": [
    "history_cifar100 = model_cifar100.fit(x_train1, y_train1, batch_size=100, epochs=5, validation_data=(x_test1, y_test1))"
   ]
  },
  {
   "cell_type": "code",
   "execution_count": 19,
   "metadata": {},
   "outputs": [
    {
     "name": "stdout",
     "output_type": "stream",
     "text": [
      "10000/10000 [==============================] - 2s 214us/sample - loss: 2.7125 - categorical_accuracy: 0.3063\n",
      "Accuracy:0.30630001425743103\n"
     ]
    }
   ],
   "source": [
    "score = model_cifar100.evaluate(x_test1, y_test1)\n",
    "print(f'Accuracy:{score[1]}')"
   ]
  }
 ],
 "metadata": {
  "kernelspec": {
   "display_name": "Python 3",
   "language": "python",
   "name": "python3"
  },
  "language_info": {
   "codemirror_mode": {
    "name": "ipython",
    "version": 3
   },
   "file_extension": ".py",
   "mimetype": "text/x-python",
   "name": "python",
   "nbconvert_exporter": "python",
   "pygments_lexer": "ipython3",
   "version": "3.7.4"
  }
 },
 "nbformat": 4,
 "nbformat_minor": 2
}
